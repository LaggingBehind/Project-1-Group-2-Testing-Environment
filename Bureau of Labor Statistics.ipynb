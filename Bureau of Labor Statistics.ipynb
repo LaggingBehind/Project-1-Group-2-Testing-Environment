{
 "cells": [
  {
   "cell_type": "code",
   "execution_count": 2,
   "metadata": {},
   "outputs": [],
   "source": [
    "# Dependencies\n",
    "import pandas as pd\n",
    "import requests\n",
    "import sklearn.datasets as dta\n",
    "import scipy.stats as st\n",
    "import matplotlib.pyplot as plt\n",
    "from dotenv import load_dotenv\n"
   ]
  },
  {
   "cell_type": "code",
   "execution_count": 14,
   "metadata": {},
   "outputs": [
    {
     "name": "stdout",
     "output_type": "stream",
     "text": [
      "   survey_abbreviation                                        survey_name\n",
      "0                   AP          Consumer Price Index - Average Price Data\n",
      "1                   BD                       Business Employment Dynamics\n",
      "2                   BG  Collective Bargaining Agreements-State and Loc...\n",
      "3                   BP    Collective Bargaining Agreements-Private Sector\n",
      "4                   CB  Biennial Nonfatal Case and Demographic numbers...\n",
      "..                 ...                                                ...\n",
      "62                  TU                                  American Time Use\n",
      "63                  WD  Producer Price Index Commodity-Discontinued Se...\n",
      "64                  WM                                      Wage Modeling\n",
      "65                  WP                   Producer Price Index-Commodities\n",
      "66                  WS                                 Work Stoppage Data\n",
      "\n",
      "[67 rows x 2 columns]\n"
     ]
    }
   ],
   "source": [
    "def fetch_bls_surveys():\n",
    "    url = \"https://api.bls.gov/publicAPI/v2/surveys\"\n",
    "\n",
    "    # Make the API GET request\n",
    "    response = requests.get(url)\n",
    "\n",
    "    # Check if the request was successful\n",
    "    if response.status_code == 200:\n",
    "        data = response.json()  # Parse JSON response\n",
    "        if 'Results' in data and 'survey' in data['Results']:\n",
    "            # Load survey data into a DataFrame and print\n",
    "            df = pd.DataFrame(data['Results']['survey'])\n",
    "            print(df)  \n",
    "            df.to_csv('bls_surveys.csv', index=False)\n",
    "        else:\n",
    "            print(\"No survey data found in the response.\")\n",
    "    else:\n",
    "        print(\"Failed to fetch data:\", response.status_code)\n",
    "\n",
    "# Call the function to fetch and display surveys\n",
    "fetch_bls_surveys()\n"
   ]
  },
  {
   "cell_type": "code",
   "execution_count": 17,
   "metadata": {},
   "outputs": [
    {
     "name": "stdout",
     "output_type": "stream",
     "text": [
      "{'status': 'REQUEST_SUCCEEDED', 'responseTime': 145, 'message': [], 'Results': {'series': [{'seriesID': 'LAUCN040010000000005', 'data': [{'year': '2024', 'period': 'M06', 'periodName': 'June', 'latest': 'true', 'value': '16515', 'footnotes': [{'code': 'P', 'text': 'Preliminary.'}]}]}]}}\n"
     ]
    }
   ],
   "source": [
    "def fetch_latest_series_data(series_id):\n",
    "    # Set the base URL for the BLS API timeseries data\n",
    "    base_url = \"https://api.bls.gov/publicAPI/v2/timeseries/data/\"\n",
    "\n",
    "    # Append the series ID and the 'latest' parameter to the URL\n",
    "    url = f\"{base_url}{series_id}?latest=true\"\n",
    "\n",
    "    # Make the API GET request\n",
    "    response = requests.get(url)\n",
    "\n",
    "    # Check if the request was successful\n",
    "    if response.status_code == 200:\n",
    "        data = response.json()  # Parse JSON response\n",
    "        return data\n",
    "    else:\n",
    "        print(\"Failed to fetch data:\", response.status_code)\n",
    "        return None\n",
    "\n",
    "# Example usage with a specific series ID\n",
    "series_id = \"LAUCN040010000000005\"  # Replace with the series ID you're interested in\n",
    "latest_data = fetch_latest_series_data(series_id)\n",
    "\n",
    "# Print the fetched data\n",
    "if latest_data:\n",
    "    print(latest_data)\n"
   ]
  },
  {
   "cell_type": "code",
   "execution_count": 19,
   "metadata": {},
   "outputs": [
    {
     "name": "stdout",
     "output_type": "stream",
     "text": [
      "Data exported to 'latest_bls_data.csv'.\n"
     ]
    }
   ],
   "source": [
    "def export_data_to_csv(data, filename='latest_bls_data.csv'):\n",
    "    if data and 'Results' in data and 'series' in data['Results']:\n",
    "        # Extract the series data\n",
    "        series_data = data['Results']['series'][0]['data'][0]  # Extracting the latest data point\n",
    "\n",
    "        # Convert to DataFrame\n",
    "        df = pd.DataFrame([series_data])\n",
    "\n",
    "        # Export to CSV\n",
    "        df.to_csv(filename, index=False)\n",
    "        print(f\"Data exported to '{filename}'.\")\n",
    "    else:\n",
    "        print(\"No valid data to export.\")\n",
    "\n",
    "# Call the function to export data\n",
    "if latest_data:\n",
    "    export_data_to_csv(latest_data)"
   ]
  },
  {
   "cell_type": "code",
   "execution_count": 30,
   "metadata": {},
   "outputs": [
    {
     "name": "stdout",
     "output_type": "stream",
     "text": [
      "{'survey_name': 'Occupational injuries and illnesses industry data', 'survey_abbreviation': 'IS', 'allowsNetChange': 'false', 'allowsPercentChange': 'false', 'hasAnnualAverages': 'false'}\n"
     ]
    }
   ],
   "source": [
    "def fetch_survey_metadata(survey_abbreviation):\n",
    "    # Define the URL for fetching survey metadata\n",
    "    base_url = \"https://api.bls.gov/publicAPI/v2/surveys/\"\n",
    "    \n",
    "    # Make the API GET request with the survey abbreviation\n",
    "    response = requests.get(f\"{base_url}{survey_abbreviation}\")\n",
    "    \n",
    "    # Check if the request was successful\n",
    "    if response.status_code == 200:\n",
    "        data = response.json()  # Parse the JSON response\n",
    "        if data['status'] == 'REQUEST_SUCCEEDED' and 'survey' in data['Results']:\n",
    "            return data['Results']['survey'][0]  # Return the first survey in the list\n",
    "        else:\n",
    "            print(\"Survey data not found or an error occurred.\")\n",
    "            return None\n",
    "    else:\n",
    "        print(\"Failed to fetch data:\", response.status_code)\n",
    "        return None\n",
    "\n",
    "# Example usage: Fetch metadata for the 'IS' survey\n",
    "survey_metadata = fetch_survey_metadata(\"IS\")\n",
    "\n",
    "# Print the fetched metadata\n",
    "if survey_metadata:\n",
    "    print(survey_metadata)\n",
    "\n"
   ]
  },
  {
   "cell_type": "code",
   "execution_count": null,
   "metadata": {},
   "outputs": [],
   "source": []
  },
  {
   "cell_type": "code",
   "execution_count": null,
   "metadata": {},
   "outputs": [],
   "source": []
  },
  {
   "cell_type": "code",
   "execution_count": null,
   "metadata": {},
   "outputs": [],
   "source": [
    "# Regression analysis\n",
    "# model = LinearRegression()"
   ]
  },
  {
   "cell_type": "code",
   "execution_count": null,
   "metadata": {},
   "outputs": [],
   "source": [
    "# Visualization\n",
    "# plot with regression line"
   ]
  },
  {
   "cell_type": "code",
   "execution_count": null,
   "metadata": {},
   "outputs": [],
   "source": [
    "# Time series analysis of vacancy rates "
   ]
  },
  {
   "cell_type": "code",
   "execution_count": null,
   "metadata": {},
   "outputs": [],
   "source": [
    "# Histogram of CRE pricing changes"
   ]
  },
  {
   "cell_type": "code",
   "execution_count": null,
   "metadata": {},
   "outputs": [],
   "source": [
    "# Conclusions"
   ]
  },
  {
   "cell_type": "code",
   "execution_count": null,
   "metadata": {},
   "outputs": [],
   "source": [
    "# Export analyzed data to a CSV file"
   ]
  },
  {
   "cell_type": "code",
   "execution_count": null,
   "metadata": {},
   "outputs": [],
   "source": []
  }
 ],
 "metadata": {
  "kernelspec": {
   "display_name": "Python 3 (ipykernel)",
   "language": "python",
   "name": "python3"
  },
  "language_info": {
   "codemirror_mode": {
    "name": "ipython",
    "version": 3
   },
   "file_extension": ".py",
   "mimetype": "text/x-python",
   "name": "python",
   "nbconvert_exporter": "python",
   "pygments_lexer": "ipython3",
   "version": "3.11.7"
  }
 },
 "nbformat": 4,
 "nbformat_minor": 4
}
