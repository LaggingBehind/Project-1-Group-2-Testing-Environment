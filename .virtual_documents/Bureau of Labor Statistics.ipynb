# Dependencies
import pandas as pd
import requests
import sklearn.datasets as dta
import scipy.stats as st
import matplotlib.pyplot as plt
from dotenv import load_dotenv



def fetch_bls_surveys():
    url = "https://api.bls.gov/publicAPI/v2/surveys"

    # Make the API GET request
    response = requests.get(url)

    # Check if the request was successful
    if response.status_code == 200:
        data = response.json()  # Parse JSON response
        if 'Results' in data and 'survey' in data['Results']:
            # Load survey data into a DataFrame and print
            df = pd.DataFrame(data['Results']['survey'])
            print(df)  
            df.to_csv('bls_surveys.csv', index=False)
        else:
            print("No survey data found in the response.")
    else:
        print("Failed to fetch data:", response.status_code)

# Call the function to fetch and display surveys
fetch_bls_surveys()



def fetch_latest_series_data(series_id):
    # Set the base URL for the BLS API timeseries data
    base_url = "https://api.bls.gov/publicAPI/v2/timeseries/data/"

    # Append the series ID and the 'latest' parameter to the URL
    url = f"{base_url}{series_id}?latest=true"

    # Make the API GET request
    response = requests.get(url)

    # Check if the request was successful
    if response.status_code == 200:
        data = response.json()  # Parse JSON response
        return data
    else:
        print("Failed to fetch data:", response.status_code)
        return None

# Example usage with a specific series ID
series_id = "LAUCN040010000000005"  # Replace with the series ID you're interested in
latest_data = fetch_latest_series_data(series_id)

# Print the fetched data
if latest_data:
    print(latest_data)



def export_data_to_csv(data, filename='latest_bls_data.csv'):
    if data and 'Results' in data and 'series' in data['Results']:
        # Extract the series data
        series_data = data['Results']['series'][0]['data'][0]  # Extracting the latest data point

        # Convert to DataFrame
        df = pd.DataFrame([series_data])

        # Export to CSV
        df.to_csv(filename, index=False)
        print(f"Data exported to '{filename}'.")
    else:
        print("No valid data to export.")

# Call the function to export data
if latest_data:
    export_data_to_csv(latest_data)


def fetch_survey_metadata(survey_abbreviation):
    # Define the URL for fetching survey metadata
    base_url = "https://api.bls.gov/publicAPI/v2/surveys/"
    
    # Make the API GET request with the survey abbreviation
    response = requests.get(f"{base_url}{survey_abbreviation}")
    
    # Check if the request was successful
    if response.status_code == 200:
        data = response.json()  # Parse the JSON response
        if data['status'] == 'REQUEST_SUCCEEDED' and 'survey' in data['Results']:
            return data['Results']['survey'][0]  # Return the first survey in the list
        else:
            print("Survey data not found or an error occurred.")
            return None
    else:
        print("Failed to fetch data:", response.status_code)
        return None

# Example usage: Fetch metadata for the 'IS' survey
survey_metadata = fetch_survey_metadata("IS")

# Print the fetched metadata
if survey_metadata:
    print(survey_metadata)





























